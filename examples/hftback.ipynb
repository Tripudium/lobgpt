{
 "cells": [
  {
   "cell_type": "code",
   "execution_count": 1,
   "id": "f74c16ca",
   "metadata": {},
   "outputs": [],
   "source": [
    "%load_ext autoreload\n",
    "%autoreload 2"
   ]
  },
  {
   "cell_type": "code",
   "execution_count": null,
   "id": "21be5592",
   "metadata": {},
   "outputs": [],
   "source": [
    "from pathlib import Path\n",
    "from numba import njit\n",
    "import polars as pl\n"
   ]
  },
  {
   "cell_type": "code",
   "execution_count": 3,
   "id": "eb189ca6",
   "metadata": {},
   "outputs": [],
   "source": [
    "from hftbacktest.data.utils import tardis"
   ]
  },
  {
   "cell_type": "code",
   "execution_count": null,
   "id": "f79d0224",
   "metadata": {},
   "outputs": [],
   "source": [
    "DATA_PATH = Path().resolve().parent / \"data\" / \"tardis\" / \"binance-futures\" / \"raw\"\n",
    "TRADES_FILE = str(DATA_PATH / \"binance-futures_trades_2025-09-12_BTCUSDT.csv.gz\")\n",
    "L2_BOOK_FILE = str(DATA_PATH / \"binance-futures_incremental_book_L2_2025-09-12_BTCUSDT.csv.gz\")\n",
    "data = tardis.convert(\n",
    "    [TRADES_FILE, L2_BOOK_FILE],\n",
    "    output_filename=\"binance-futures_2025-09-12_BTCUSDT.npz\",\n",
    "    buffer_size=100000000,\n",
    ")\n",
    "df = pl.DataFrame(data)\n",
    "df.write_parquet(\"binance-futures_2025-09-12_BTCUSDT.parquet\")"
   ]
  },
  {
   "cell_type": "code",
   "execution_count": 6,
   "id": "294f28c9",
   "metadata": {},
   "outputs": [
    {
     "data": {
      "text/html": [
       "<div><style>\n",
       ".dataframe > thead > tr,\n",
       ".dataframe > tbody > tr {\n",
       "  text-align: right;\n",
       "  white-space: pre-wrap;\n",
       "}\n",
       "</style>\n",
       "<small>shape: (5, 8)</small><table border=\"1\" class=\"dataframe\"><thead><tr><th>ev</th><th>exch_ts</th><th>local_ts</th><th>px</th><th>qty</th><th>order_id</th><th>ival</th><th>fval</th></tr><tr><td>u64</td><td>i64</td><td>i64</td><td>f64</td><td>f64</td><td>u64</td><td>i64</td><td>f64</td></tr></thead><tbody><tr><td>3758096386</td><td>1757635200356000000</td><td>1757635200359285000</td><td>115427.0</td><td>0.001</td><td>0</td><td>0</td><td>0.0</td></tr><tr><td>2684354563</td><td>1757635200485000000</td><td>1757635200785521000</td><td>115023.8</td><td>0.0</td><td>0</td><td>0</td><td>0.0</td></tr><tr><td>2684354564</td><td>1757635200485000000</td><td>1757635200785521000</td><td>115426.9</td><td>19.472</td><td>0</td><td>0</td><td>0.0</td></tr><tr><td>2684354564</td><td>1757635200485000000</td><td>1757635200785521000</td><td>115426.8</td><td>0.311</td><td>0</td><td>0</td><td>0.0</td></tr><tr><td>2684354564</td><td>1757635200485000000</td><td>1757635200785521000</td><td>115426.7</td><td>0.021</td><td>0</td><td>0</td><td>0.0</td></tr></tbody></table></div>"
      ],
      "text/plain": [
       "shape: (5, 8)\n",
       "┌────────────┬────────────────────┬───────────────────┬──────────┬────────┬──────────┬──────┬──────┐\n",
       "│ ev         ┆ exch_ts            ┆ local_ts          ┆ px       ┆ qty    ┆ order_id ┆ ival ┆ fval │\n",
       "│ ---        ┆ ---                ┆ ---               ┆ ---      ┆ ---    ┆ ---      ┆ ---  ┆ ---  │\n",
       "│ u64        ┆ i64                ┆ i64               ┆ f64      ┆ f64    ┆ u64      ┆ i64  ┆ f64  │\n",
       "╞════════════╪════════════════════╪═══════════════════╪══════════╪════════╪══════════╪══════╪══════╡\n",
       "│ 3758096386 ┆ 175763520035600000 ┆ 17576352003592850 ┆ 115427.0 ┆ 0.001  ┆ 0        ┆ 0    ┆ 0.0  │\n",
       "│            ┆ 0                  ┆ 00                ┆          ┆        ┆          ┆      ┆      │\n",
       "│ 2684354563 ┆ 175763520048500000 ┆ 17576352007855210 ┆ 115023.8 ┆ 0.0    ┆ 0        ┆ 0    ┆ 0.0  │\n",
       "│            ┆ 0                  ┆ 00                ┆          ┆        ┆          ┆      ┆      │\n",
       "│ 2684354564 ┆ 175763520048500000 ┆ 17576352007855210 ┆ 115426.9 ┆ 19.472 ┆ 0        ┆ 0    ┆ 0.0  │\n",
       "│            ┆ 0                  ┆ 00                ┆          ┆        ┆          ┆      ┆      │\n",
       "│ 2684354564 ┆ 175763520048500000 ┆ 17576352007855210 ┆ 115426.8 ┆ 0.311  ┆ 0        ┆ 0    ┆ 0.0  │\n",
       "│            ┆ 0                  ┆ 00                ┆          ┆        ┆          ┆      ┆      │\n",
       "│ 2684354564 ┆ 175763520048500000 ┆ 17576352007855210 ┆ 115426.7 ┆ 0.021  ┆ 0        ┆ 0    ┆ 0.0  │\n",
       "│            ┆ 0                  ┆ 00                ┆          ┆        ┆          ┆      ┆      │\n",
       "└────────────┴────────────────────┴───────────────────┴──────────┴────────┴──────────┴──────┴──────┘"
      ]
     },
     "execution_count": 6,
     "metadata": {},
     "output_type": "execute_result"
    }
   ],
   "source": [
    "df = pl.read_parquet(\"binance-futures_2025-09-12_BTCUSDT.parquet\")\n",
    "df.head()"
   ]
  },
  {
   "cell_type": "code",
   "execution_count": 8,
   "id": "c1561c73",
   "metadata": {},
   "outputs": [
    {
     "data": {
      "text/plain": [
       "(91603216, 8)"
      ]
     },
     "execution_count": 8,
     "metadata": {},
     "output_type": "execute_result"
    }
   ],
   "source": [
    "df.shape"
   ]
  },
  {
   "cell_type": "code",
   "execution_count": null,
   "id": "847aa505",
   "metadata": {},
   "outputs": [],
   "source": []
  }
 ],
 "metadata": {
  "kernelspec": {
   "display_name": ".venv",
   "language": "python",
   "name": "python3"
  },
  "language_info": {
   "codemirror_mode": {
    "name": "ipython",
    "version": 3
   },
   "file_extension": ".py",
   "mimetype": "text/x-python",
   "name": "python",
   "nbconvert_exporter": "python",
   "pygments_lexer": "ipython3",
   "version": "3.13.2"
  }
 },
 "nbformat": 4,
 "nbformat_minor": 5
}
