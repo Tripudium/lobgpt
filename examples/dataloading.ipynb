{
 "cells": [
  {
   "cell_type": "code",
   "execution_count": 1,
   "metadata": {},
   "outputs": [],
   "source": [
    "%load_ext autoreload\n",
    "%autoreload 2"
   ]
  },
  {
   "cell_type": "code",
   "execution_count": 17,
   "metadata": {},
   "outputs": [],
   "source": [
    "import matplotlib.pyplot as plt\n",
    "import polars as pl\n",
    "from polars import col as c"
   ]
  },
  {
   "cell_type": "code",
   "execution_count": 3,
   "metadata": {},
   "outputs": [],
   "source": [
    "from lobgpt.hdb import get_dataset"
   ]
  },
  {
   "cell_type": "code",
   "execution_count": 4,
   "metadata": {},
   "outputs": [],
   "source": [
    "RCS = [f\"{coin}USDT\" for coin in [\"BTC\", \"ETH\", \"XRP\", \"SOL\", \"DOGE\"]]\n",
    "TIMES = ['250912.000000', '250912.215000']"
   ]
  },
  {
   "cell_type": "markdown",
   "metadata": {
    "vscode": {
     "languageId": "plaintext"
    }
   },
   "source": [
    "# <font color=\"grey\">Data loading and handling</font>"
   ]
  },
  {
   "cell_type": "code",
   "execution_count": 24,
   "metadata": {},
   "outputs": [],
   "source": [
    "dl = get_dataset(\"mic\")"
   ]
  },
  {
   "cell_type": "code",
   "execution_count": 25,
   "metadata": {},
   "outputs": [],
   "source": [
    "df = dl.load_book(\"RTSX\", [\"200305.100000\", \"200305.120000\"])"
   ]
  },
  {
   "cell_type": "code",
   "execution_count": 26,
   "metadata": {},
   "outputs": [
    {
     "data": {
      "text/html": [
       "<div><style>\n",
       ".dataframe > thead > tr,\n",
       ".dataframe > tbody > tr {\n",
       "  text-align: right;\n",
       "  white-space: pre-wrap;\n",
       "}\n",
       "</style>\n",
       "<small>shape: (5, 10)</small><table border=\"1\" class=\"dataframe\"><thead><tr><th>tst</th><th>tsr</th><th>delivery_delay_ms</th><th>event_code</th><th>is_buy</th><th>prc</th><th>prc_diff</th><th>vol</th><th>order_id</th><th>order_id_offset</th></tr><tr><td>i64</td><td>i64</td><td>i64</td><td>i32</td><td>bool</td><td>i32</td><td>i32</td><td>i32</td><td>i64</td><td>i64</td></tr></thead><tbody><tr><td>1583402400011000000</td><td>1583402400542000000</td><td>531</td><td>2</td><td>true</td><td>133770</td><td>0</td><td>6</td><td>25731164369935</td><td>1</td></tr><tr><td>1583402400036000000</td><td>1583402400542000000</td><td>506</td><td>1</td><td>true</td><td>134010</td><td>240</td><td>6</td><td>25731164377233</td><td>7299</td></tr><tr><td>1583402400036000000</td><td>1583402400542000000</td><td>506</td><td>1</td><td>true</td><td>134060</td><td>50</td><td>2</td><td>25731164377234</td><td>7300</td></tr><tr><td>1583402400058000000</td><td>1583402400542000000</td><td>484</td><td>1</td><td>true</td><td>134150</td><td>90</td><td>8</td><td>25731164377335</td><td>7401</td></tr><tr><td>1583402400058000000</td><td>1583402400542000000</td><td>484</td><td>2</td><td>false</td><td>134080</td><td>-70</td><td>2</td><td>25731164376166</td><td>6232</td></tr></tbody></table></div>"
      ],
      "text/plain": [
       "shape: (5, 10)\n",
       "┌────────────┬────────────┬────────────┬────────────┬───┬──────────┬─────┬────────────┬────────────┐\n",
       "│ tst        ┆ tsr        ┆ delivery_d ┆ event_code ┆ … ┆ prc_diff ┆ vol ┆ order_id   ┆ order_id_o │\n",
       "│ ---        ┆ ---        ┆ elay_ms    ┆ ---        ┆   ┆ ---      ┆ --- ┆ ---        ┆ ffset      │\n",
       "│ i64        ┆ i64        ┆ ---        ┆ i32        ┆   ┆ i32      ┆ i32 ┆ i64        ┆ ---        │\n",
       "│            ┆            ┆ i64        ┆            ┆   ┆          ┆     ┆            ┆ i64        │\n",
       "╞════════════╪════════════╪════════════╪════════════╪═══╪══════════╪═════╪════════════╪════════════╡\n",
       "│ 1583402400 ┆ 1583402400 ┆ 531        ┆ 2          ┆ … ┆ 0        ┆ 6   ┆ 2573116436 ┆ 1          │\n",
       "│ 011000000  ┆ 542000000  ┆            ┆            ┆   ┆          ┆     ┆ 9935       ┆            │\n",
       "│ 1583402400 ┆ 1583402400 ┆ 506        ┆ 1          ┆ … ┆ 240      ┆ 6   ┆ 2573116437 ┆ 7299       │\n",
       "│ 036000000  ┆ 542000000  ┆            ┆            ┆   ┆          ┆     ┆ 7233       ┆            │\n",
       "│ 1583402400 ┆ 1583402400 ┆ 506        ┆ 1          ┆ … ┆ 50       ┆ 2   ┆ 2573116437 ┆ 7300       │\n",
       "│ 036000000  ┆ 542000000  ┆            ┆            ┆   ┆          ┆     ┆ 7234       ┆            │\n",
       "│ 1583402400 ┆ 1583402400 ┆ 484        ┆ 1          ┆ … ┆ 90       ┆ 8   ┆ 2573116437 ┆ 7401       │\n",
       "│ 058000000  ┆ 542000000  ┆            ┆            ┆   ┆          ┆     ┆ 7335       ┆            │\n",
       "│ 1583402400 ┆ 1583402400 ┆ 484        ┆ 2          ┆ … ┆ -70      ┆ 2   ┆ 2573116437 ┆ 6232       │\n",
       "│ 058000000  ┆ 542000000  ┆            ┆            ┆   ┆          ┆     ┆ 6166       ┆            │\n",
       "└────────────┴────────────┴────────────┴────────────┴───┴──────────┴─────┴────────────┴────────────┘"
      ]
     },
     "execution_count": 26,
     "metadata": {},
     "output_type": "execute_result"
    }
   ],
   "source": [
    "df.head()"
   ]
  },
  {
   "cell_type": "code",
   "execution_count": 54,
   "metadata": {},
   "outputs": [],
   "source": [
    "dl = get_dataset(\"lobster\")"
   ]
  },
  {
   "cell_type": "code",
   "execution_count": 55,
   "metadata": {},
   "outputs": [],
   "source": [
    "df = dl.load_book(\"AAPL\", [\"120621.093000\", \"120621.103000\"])"
   ]
  },
  {
   "cell_type": "code",
   "execution_count": 56,
   "metadata": {},
   "outputs": [
    {
     "data": {
      "text/html": [
       "<div><style>\n",
       ".dataframe > thead > tr,\n",
       ".dataframe > tbody > tr {\n",
       "  text-align: right;\n",
       "  white-space: pre-wrap;\n",
       "}\n",
       "</style>\n",
       "<small>shape: (5, 7)</small><table border=\"1\" class=\"dataframe\"><thead><tr><th>tst</th><th>event_type</th><th>is_buy</th><th>prc</th><th>vol</th><th>direction</th><th>order_id</th></tr><tr><td>i64</td><td>i8</td><td>bool</td><td>f64</td><td>i32</td><td>i8</td><td>i64</td></tr></thead><tbody><tr><td>1340271000004241176</td><td>1</td><td>true</td><td>585.33</td><td>18</td><td>1</td><td>16113575</td></tr><tr><td>1340271000004260640</td><td>1</td><td>true</td><td>585.32</td><td>18</td><td>1</td><td>16113584</td></tr><tr><td>1340271000004447484</td><td>1</td><td>true</td><td>585.31</td><td>18</td><td>1</td><td>16113594</td></tr><tr><td>1340271000025551909</td><td>1</td><td>false</td><td>585.91</td><td>18</td><td>-1</td><td>16120456</td></tr><tr><td>1340271000025579546</td><td>1</td><td>false</td><td>585.92</td><td>18</td><td>-1</td><td>16120480</td></tr></tbody></table></div>"
      ],
      "text/plain": [
       "shape: (5, 7)\n",
       "┌─────────────────────┬────────────┬────────┬────────┬─────┬───────────┬──────────┐\n",
       "│ tst                 ┆ event_type ┆ is_buy ┆ prc    ┆ vol ┆ direction ┆ order_id │\n",
       "│ ---                 ┆ ---        ┆ ---    ┆ ---    ┆ --- ┆ ---       ┆ ---      │\n",
       "│ i64                 ┆ i8         ┆ bool   ┆ f64    ┆ i32 ┆ i8        ┆ i64      │\n",
       "╞═════════════════════╪════════════╪════════╪════════╪═════╪═══════════╪══════════╡\n",
       "│ 1340271000004241176 ┆ 1          ┆ true   ┆ 585.33 ┆ 18  ┆ 1         ┆ 16113575 │\n",
       "│ 1340271000004260640 ┆ 1          ┆ true   ┆ 585.32 ┆ 18  ┆ 1         ┆ 16113584 │\n",
       "│ 1340271000004447484 ┆ 1          ┆ true   ┆ 585.31 ┆ 18  ┆ 1         ┆ 16113594 │\n",
       "│ 1340271000025551909 ┆ 1          ┆ false  ┆ 585.91 ┆ 18  ┆ -1        ┆ 16120456 │\n",
       "│ 1340271000025579546 ┆ 1          ┆ false  ┆ 585.92 ┆ 18  ┆ -1        ┆ 16120480 │\n",
       "└─────────────────────┴────────────┴────────┴────────┴─────┴───────────┴──────────┘"
      ]
     },
     "execution_count": 56,
     "metadata": {},
     "output_type": "execute_result"
    }
   ],
   "source": [
    "df.head()"
   ]
  },
  {
   "cell_type": "code",
   "execution_count": null,
   "metadata": {},
   "outputs": [],
   "source": []
  }
 ],
 "metadata": {
  "kernelspec": {
   "display_name": ".venv",
   "language": "python",
   "name": "python3"
  },
  "language_info": {
   "codemirror_mode": {
    "name": "ipython",
    "version": 3
   },
   "file_extension": ".py",
   "mimetype": "text/x-python",
   "name": "python",
   "nbconvert_exporter": "python",
   "pygments_lexer": "ipython3",
   "version": "3.13.2"
  }
 },
 "nbformat": 4,
 "nbformat_minor": 4
}
