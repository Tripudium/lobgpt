{
 "cells": [
  {
   "cell_type": "code",
   "execution_count": 1,
   "metadata": {},
   "outputs": [],
   "source": [
    "%load_ext autoreload\n",
    "%autoreload 2"
   ]
  },
  {
   "cell_type": "code",
   "execution_count": 30,
   "metadata": {},
   "outputs": [],
   "source": [
    "import polars as pl"
   ]
  },
  {
   "cell_type": "code",
   "execution_count": 21,
   "metadata": {},
   "outputs": [],
   "source": [
    "from lobgpt.hdb import get_dataset, reconstruct_snapshots"
   ]
  },
  {
   "cell_type": "markdown",
   "metadata": {},
   "source": []
  },
  {
   "cell_type": "markdown",
   "metadata": {
    "vscode": {
     "languageId": "plaintext"
    }
   },
   "source": [
    "# <font color=\"grey\">Data loading and handling</font>"
   ]
  },
  {
   "cell_type": "code",
   "execution_count": 3,
   "metadata": {},
   "outputs": [],
   "source": [
    "dl = get_dataset(\"mic\")"
   ]
  },
  {
   "cell_type": "code",
   "execution_count": 4,
   "metadata": {},
   "outputs": [],
   "source": [
    "df = dl.load_book(\"RTSX\", [\"200305.000000\", \"200305.120000\"])"
   ]
  },
  {
   "cell_type": "code",
   "execution_count": 5,
   "metadata": {},
   "outputs": [
    {
     "data": {
      "text/html": [
       "<div><style>\n",
       ".dataframe > thead > tr,\n",
       ".dataframe > tbody > tr {\n",
       "  text-align: right;\n",
       "  white-space: pre-wrap;\n",
       "}\n",
       "</style>\n",
       "<small>shape: (5, 10)</small><table border=\"1\" class=\"dataframe\"><thead><tr><th>tst</th><th>tsr</th><th>delivery_delay_ms</th><th>event_code</th><th>is_buy</th><th>prc</th><th>prc_diff</th><th>vol</th><th>order_id</th><th>order_id_offset</th></tr><tr><td>i64</td><td>i64</td><td>i64</td><td>i32</td><td>bool</td><td>i32</td><td>i32</td><td>i32</td><td>i64</td><td>i64</td></tr></thead><tbody><tr><td>1583394591163000000</td><td>1583394591280000000</td><td>117</td><td>2</td><td>true</td><td>133010</td><td>0</td><td>1</td><td>25731155910498</td><td>1</td></tr><tr><td>1583394591763000000</td><td>1583394591877000000</td><td>114</td><td>2</td><td>true</td><td>132320</td><td>-690</td><td>10</td><td>25731157862755</td><td>1952258</td></tr><tr><td>1583394599623000000</td><td>1583394599735000000</td><td>112</td><td>2</td><td>false</td><td>139240</td><td>6920</td><td>1</td><td>25731153882619</td><td>-2027878</td></tr><tr><td>1583394612131000000</td><td>1583394612240000000</td><td>109</td><td>2</td><td>false</td><td>136220</td><td>-3020</td><td>1</td><td>25731149088954</td><td>-6821543</td></tr><tr><td>1583394616176000000</td><td>1583394616292000000</td><td>116</td><td>2</td><td>false</td><td>137420</td><td>1200</td><td>1</td><td>25731153478528</td><td>-2431969</td></tr></tbody></table></div>"
      ],
      "text/plain": [
       "shape: (5, 10)\n",
       "┌────────────┬────────────┬────────────┬────────────┬───┬──────────┬─────┬────────────┬────────────┐\n",
       "│ tst        ┆ tsr        ┆ delivery_d ┆ event_code ┆ … ┆ prc_diff ┆ vol ┆ order_id   ┆ order_id_o │\n",
       "│ ---        ┆ ---        ┆ elay_ms    ┆ ---        ┆   ┆ ---      ┆ --- ┆ ---        ┆ ffset      │\n",
       "│ i64        ┆ i64        ┆ ---        ┆ i32        ┆   ┆ i32      ┆ i32 ┆ i64        ┆ ---        │\n",
       "│            ┆            ┆ i64        ┆            ┆   ┆          ┆     ┆            ┆ i64        │\n",
       "╞════════════╪════════════╪════════════╪════════════╪═══╪══════════╪═════╪════════════╪════════════╡\n",
       "│ 1583394591 ┆ 1583394591 ┆ 117        ┆ 2          ┆ … ┆ 0        ┆ 1   ┆ 2573115591 ┆ 1          │\n",
       "│ 163000000  ┆ 280000000  ┆            ┆            ┆   ┆          ┆     ┆ 0498       ┆            │\n",
       "│ 1583394591 ┆ 1583394591 ┆ 114        ┆ 2          ┆ … ┆ -690     ┆ 10  ┆ 2573115786 ┆ 1952258    │\n",
       "│ 763000000  ┆ 877000000  ┆            ┆            ┆   ┆          ┆     ┆ 2755       ┆            │\n",
       "│ 1583394599 ┆ 1583394599 ┆ 112        ┆ 2          ┆ … ┆ 6920     ┆ 1   ┆ 2573115388 ┆ -2027878   │\n",
       "│ 623000000  ┆ 735000000  ┆            ┆            ┆   ┆          ┆     ┆ 2619       ┆            │\n",
       "│ 1583394612 ┆ 1583394612 ┆ 109        ┆ 2          ┆ … ┆ -3020    ┆ 1   ┆ 2573114908 ┆ -6821543   │\n",
       "│ 131000000  ┆ 240000000  ┆            ┆            ┆   ┆          ┆     ┆ 8954       ┆            │\n",
       "│ 1583394616 ┆ 1583394616 ┆ 116        ┆ 2          ┆ … ┆ 1200     ┆ 1   ┆ 2573115347 ┆ -2431969   │\n",
       "│ 176000000  ┆ 292000000  ┆            ┆            ┆   ┆          ┆     ┆ 8528       ┆            │\n",
       "└────────────┴────────────┴────────────┴────────────┴───┴──────────┴─────┴────────────┴────────────┘"
      ]
     },
     "execution_count": 5,
     "metadata": {},
     "output_type": "execute_result"
    }
   ],
   "source": [
    "df.head()"
   ]
  },
  {
   "cell_type": "code",
   "execution_count": 54,
   "metadata": {},
   "outputs": [],
   "source": [
    "dl = get_dataset(\"lobster\")"
   ]
  },
  {
   "cell_type": "code",
   "execution_count": 40,
   "metadata": {},
   "outputs": [],
   "source": [
    "df = dl.load_book(\"AAPL\", [\"120621.093000\", \"120621.103000\"])"
   ]
  },
  {
   "cell_type": "code",
   "execution_count": 41,
   "metadata": {},
   "outputs": [
    {
     "data": {
      "text/html": [
       "<div><style>\n",
       ".dataframe > thead > tr,\n",
       ".dataframe > tbody > tr {\n",
       "  text-align: right;\n",
       "  white-space: pre-wrap;\n",
       "}\n",
       "</style>\n",
       "<small>shape: (5, 7)</small><table border=\"1\" class=\"dataframe\"><thead><tr><th>tst</th><th>event_code</th><th>is_buy</th><th>prc</th><th>vol</th><th>direction</th><th>order_id</th></tr><tr><td>i64</td><td>i8</td><td>bool</td><td>f64</td><td>i32</td><td>i8</td><td>i64</td></tr></thead><tbody><tr><td>1340271000004241176</td><td>1</td><td>true</td><td>585.33</td><td>18</td><td>1</td><td>16113575</td></tr><tr><td>1340271000004260640</td><td>1</td><td>true</td><td>585.32</td><td>18</td><td>1</td><td>16113584</td></tr><tr><td>1340271000004447484</td><td>1</td><td>true</td><td>585.31</td><td>18</td><td>1</td><td>16113594</td></tr><tr><td>1340271000025551909</td><td>1</td><td>false</td><td>585.91</td><td>18</td><td>-1</td><td>16120456</td></tr><tr><td>1340271000025579546</td><td>1</td><td>false</td><td>585.92</td><td>18</td><td>-1</td><td>16120480</td></tr></tbody></table></div>"
      ],
      "text/plain": [
       "shape: (5, 7)\n",
       "┌─────────────────────┬────────────┬────────┬────────┬─────┬───────────┬──────────┐\n",
       "│ tst                 ┆ event_code ┆ is_buy ┆ prc    ┆ vol ┆ direction ┆ order_id │\n",
       "│ ---                 ┆ ---        ┆ ---    ┆ ---    ┆ --- ┆ ---       ┆ ---      │\n",
       "│ i64                 ┆ i8         ┆ bool   ┆ f64    ┆ i32 ┆ i8        ┆ i64      │\n",
       "╞═════════════════════╪════════════╪════════╪════════╪═════╪═══════════╪══════════╡\n",
       "│ 1340271000004241176 ┆ 1          ┆ true   ┆ 585.33 ┆ 18  ┆ 1         ┆ 16113575 │\n",
       "│ 1340271000004260640 ┆ 1          ┆ true   ┆ 585.32 ┆ 18  ┆ 1         ┆ 16113584 │\n",
       "│ 1340271000004447484 ┆ 1          ┆ true   ┆ 585.31 ┆ 18  ┆ 1         ┆ 16113594 │\n",
       "│ 1340271000025551909 ┆ 1          ┆ false  ┆ 585.91 ┆ 18  ┆ -1        ┆ 16120456 │\n",
       "│ 1340271000025579546 ┆ 1          ┆ false  ┆ 585.92 ┆ 18  ┆ -1        ┆ 16120480 │\n",
       "└─────────────────────┴────────────┴────────┴────────┴─────┴───────────┴──────────┘"
      ]
     },
     "execution_count": 41,
     "metadata": {},
     "output_type": "execute_result"
    }
   ],
   "source": [
    "df.head()"
   ]
  },
  {
   "cell_type": "code",
   "execution_count": 42,
   "metadata": {},
   "outputs": [
    {
     "data": {
      "text/plain": [
       "(91997, 7)"
      ]
     },
     "execution_count": 42,
     "metadata": {},
     "output_type": "execute_result"
    }
   ],
   "source": [
    "df.shape"
   ]
  },
  {
   "cell_type": "code",
   "execution_count": null,
   "metadata": {},
   "outputs": [],
   "source": []
  },
  {
   "cell_type": "code",
   "execution_count": 55,
   "metadata": {},
   "outputs": [],
   "source": [
    "df = dl.load_book(\"AAPL\", [\"120621.093000\", \"120621.103000\"], type=\"snapshot\")"
   ]
  },
  {
   "cell_type": "code",
   "execution_count": 56,
   "metadata": {},
   "outputs": [
    {
     "data": {
      "text/html": [
       "<div><style>\n",
       ".dataframe > thead > tr,\n",
       ".dataframe > tbody > tr {\n",
       "  text-align: right;\n",
       "  white-space: pre-wrap;\n",
       "}\n",
       "</style>\n",
       "<small>shape: (5, 201)</small><table border=\"1\" class=\"dataframe\"><thead><tr><th>tst</th><th>asks[0].price</th><th>asks[0].amount</th><th>bids[0].price</th><th>bids[0].amount</th><th>asks[1].price</th><th>asks[1].amount</th><th>bids[1].price</th><th>bids[1].amount</th><th>asks[2].price</th><th>asks[2].amount</th><th>bids[2].price</th><th>bids[2].amount</th><th>asks[3].price</th><th>asks[3].amount</th><th>bids[3].price</th><th>bids[3].amount</th><th>asks[4].price</th><th>asks[4].amount</th><th>bids[4].price</th><th>bids[4].amount</th><th>asks[5].price</th><th>asks[5].amount</th><th>bids[5].price</th><th>bids[5].amount</th><th>asks[6].price</th><th>asks[6].amount</th><th>bids[6].price</th><th>bids[6].amount</th><th>asks[7].price</th><th>asks[7].amount</th><th>bids[7].price</th><th>bids[7].amount</th><th>asks[8].price</th><th>asks[8].amount</th><th>bids[8].price</th><th>bids[8].amount</th><th>&hellip;</th><th>bids[40].amount</th><th>asks[41].price</th><th>asks[41].amount</th><th>bids[41].price</th><th>bids[41].amount</th><th>asks[42].price</th><th>asks[42].amount</th><th>bids[42].price</th><th>bids[42].amount</th><th>asks[43].price</th><th>asks[43].amount</th><th>bids[43].price</th><th>bids[43].amount</th><th>asks[44].price</th><th>asks[44].amount</th><th>bids[44].price</th><th>bids[44].amount</th><th>asks[45].price</th><th>asks[45].amount</th><th>bids[45].price</th><th>bids[45].amount</th><th>asks[46].price</th><th>asks[46].amount</th><th>bids[46].price</th><th>bids[46].amount</th><th>asks[47].price</th><th>asks[47].amount</th><th>bids[47].price</th><th>bids[47].amount</th><th>asks[48].price</th><th>asks[48].amount</th><th>bids[48].price</th><th>bids[48].amount</th><th>asks[49].price</th><th>asks[49].amount</th><th>bids[49].price</th><th>bids[49].amount</th></tr><tr><td>i64</td><td>f64</td><td>f64</td><td>f64</td><td>f64</td><td>f64</td><td>f64</td><td>f64</td><td>f64</td><td>f64</td><td>f64</td><td>f64</td><td>f64</td><td>f64</td><td>f64</td><td>f64</td><td>f64</td><td>f64</td><td>f64</td><td>f64</td><td>f64</td><td>f64</td><td>f64</td><td>f64</td><td>f64</td><td>f64</td><td>f64</td><td>f64</td><td>f64</td><td>f64</td><td>f64</td><td>f64</td><td>f64</td><td>f64</td><td>f64</td><td>f64</td><td>f64</td><td>&hellip;</td><td>f64</td><td>f64</td><td>f64</td><td>f64</td><td>f64</td><td>f64</td><td>f64</td><td>f64</td><td>f64</td><td>f64</td><td>f64</td><td>f64</td><td>f64</td><td>f64</td><td>f64</td><td>f64</td><td>f64</td><td>f64</td><td>f64</td><td>f64</td><td>f64</td><td>f64</td><td>f64</td><td>f64</td><td>f64</td><td>f64</td><td>f64</td><td>f64</td><td>f64</td><td>f64</td><td>f64</td><td>f64</td><td>f64</td><td>f64</td><td>f64</td><td>f64</td><td>f64</td></tr></thead><tbody><tr><td>1340271000004241176</td><td>585.94</td><td>200.0</td><td>585.33</td><td>18.0</td><td>585.98</td><td>200.0</td><td>585.3</td><td>150.0</td><td>586.1</td><td>200.0</td><td>585.1</td><td>5.0</td><td>586.89</td><td>300.0</td><td>585.01</td><td>89.0</td><td>586.95</td><td>50.0</td><td>584.97</td><td>5.0</td><td>587.0</td><td>100.0</td><td>584.93</td><td>300.0</td><td>587.1</td><td>10.0</td><td>584.65</td><td>300.0</td><td>587.39</td><td>100.0</td><td>584.53</td><td>300.0</td><td>587.65</td><td>1160.0</td><td>584.38</td><td>200.0</td><td>&hellip;</td><td>400.0</td><td>null</td><td>0.0</td><td>500.0</td><td>100.0</td><td>null</td><td>0.0</td><td>483.03</td><td>100.0</td><td>null</td><td>0.0</td><td>481.13</td><td>20.0</td><td>null</td><td>0.0</td><td>480.0</td><td>102.0</td><td>null</td><td>0.0</td><td>478.59</td><td>100.0</td><td>null</td><td>0.0</td><td>473.65</td><td>100.0</td><td>null</td><td>0.0</td><td>468.96</td><td>200.0</td><td>null</td><td>0.0</td><td>468.95</td><td>1900.0</td><td>null</td><td>0.0</td><td>468.94</td><td>400.0</td></tr><tr><td>1340271000004260640</td><td>585.94</td><td>200.0</td><td>585.33</td><td>18.0</td><td>585.98</td><td>200.0</td><td>585.32</td><td>18.0</td><td>586.1</td><td>200.0</td><td>585.3</td><td>150.0</td><td>586.89</td><td>300.0</td><td>585.1</td><td>5.0</td><td>586.95</td><td>50.0</td><td>585.01</td><td>89.0</td><td>587.0</td><td>100.0</td><td>584.97</td><td>5.0</td><td>587.1</td><td>10.0</td><td>584.93</td><td>300.0</td><td>587.39</td><td>100.0</td><td>584.65</td><td>300.0</td><td>587.65</td><td>1160.0</td><td>584.53</td><td>300.0</td><td>&hellip;</td><td>20.0</td><td>null</td><td>0.0</td><td>520.0</td><td>400.0</td><td>null</td><td>0.0</td><td>500.0</td><td>100.0</td><td>null</td><td>0.0</td><td>483.03</td><td>100.0</td><td>null</td><td>0.0</td><td>481.13</td><td>20.0</td><td>null</td><td>0.0</td><td>480.0</td><td>102.0</td><td>null</td><td>0.0</td><td>478.59</td><td>100.0</td><td>null</td><td>0.0</td><td>473.65</td><td>100.0</td><td>null</td><td>0.0</td><td>468.96</td><td>200.0</td><td>null</td><td>0.0</td><td>468.95</td><td>1900.0</td></tr><tr><td>1340271000004447484</td><td>585.94</td><td>200.0</td><td>585.33</td><td>18.0</td><td>585.98</td><td>200.0</td><td>585.32</td><td>18.0</td><td>586.1</td><td>200.0</td><td>585.31</td><td>18.0</td><td>586.89</td><td>300.0</td><td>585.3</td><td>150.0</td><td>586.95</td><td>50.0</td><td>585.1</td><td>5.0</td><td>587.0</td><td>100.0</td><td>585.01</td><td>89.0</td><td>587.1</td><td>10.0</td><td>584.97</td><td>5.0</td><td>587.39</td><td>100.0</td><td>584.93</td><td>300.0</td><td>587.65</td><td>1160.0</td><td>584.65</td><td>300.0</td><td>&hellip;</td><td>1.0</td><td>null</td><td>0.0</td><td>523.8</td><td>20.0</td><td>null</td><td>0.0</td><td>520.0</td><td>400.0</td><td>null</td><td>0.0</td><td>500.0</td><td>100.0</td><td>null</td><td>0.0</td><td>483.03</td><td>100.0</td><td>null</td><td>0.0</td><td>481.13</td><td>20.0</td><td>null</td><td>0.0</td><td>480.0</td><td>102.0</td><td>null</td><td>0.0</td><td>478.59</td><td>100.0</td><td>null</td><td>0.0</td><td>473.65</td><td>100.0</td><td>null</td><td>0.0</td><td>468.96</td><td>200.0</td></tr><tr><td>1340271000025551909</td><td>585.91</td><td>18.0</td><td>585.33</td><td>18.0</td><td>585.94</td><td>200.0</td><td>585.32</td><td>18.0</td><td>585.98</td><td>200.0</td><td>585.31</td><td>18.0</td><td>586.1</td><td>200.0</td><td>585.3</td><td>150.0</td><td>586.89</td><td>300.0</td><td>585.1</td><td>5.0</td><td>586.95</td><td>50.0</td><td>585.01</td><td>89.0</td><td>587.0</td><td>100.0</td><td>584.97</td><td>5.0</td><td>587.1</td><td>10.0</td><td>584.93</td><td>300.0</td><td>587.39</td><td>100.0</td><td>584.65</td><td>300.0</td><td>&hellip;</td><td>1.0</td><td>null</td><td>0.0</td><td>523.8</td><td>20.0</td><td>null</td><td>0.0</td><td>520.0</td><td>400.0</td><td>null</td><td>0.0</td><td>500.0</td><td>100.0</td><td>null</td><td>0.0</td><td>483.03</td><td>100.0</td><td>null</td><td>0.0</td><td>481.13</td><td>20.0</td><td>null</td><td>0.0</td><td>480.0</td><td>102.0</td><td>null</td><td>0.0</td><td>478.59</td><td>100.0</td><td>null</td><td>0.0</td><td>473.65</td><td>100.0</td><td>null</td><td>0.0</td><td>468.96</td><td>200.0</td></tr><tr><td>1340271000025579546</td><td>585.91</td><td>18.0</td><td>585.33</td><td>18.0</td><td>585.92</td><td>18.0</td><td>585.32</td><td>18.0</td><td>585.94</td><td>200.0</td><td>585.31</td><td>18.0</td><td>585.98</td><td>200.0</td><td>585.3</td><td>150.0</td><td>586.1</td><td>200.0</td><td>585.1</td><td>5.0</td><td>586.89</td><td>300.0</td><td>585.01</td><td>89.0</td><td>586.95</td><td>50.0</td><td>584.97</td><td>5.0</td><td>587.0</td><td>100.0</td><td>584.93</td><td>300.0</td><td>587.1</td><td>10.0</td><td>584.65</td><td>300.0</td><td>&hellip;</td><td>1.0</td><td>2000.0</td><td>100.0</td><td>523.8</td><td>20.0</td><td>null</td><td>0.0</td><td>520.0</td><td>400.0</td><td>null</td><td>0.0</td><td>500.0</td><td>100.0</td><td>null</td><td>0.0</td><td>483.03</td><td>100.0</td><td>null</td><td>0.0</td><td>481.13</td><td>20.0</td><td>null</td><td>0.0</td><td>480.0</td><td>102.0</td><td>null</td><td>0.0</td><td>478.59</td><td>100.0</td><td>null</td><td>0.0</td><td>473.65</td><td>100.0</td><td>null</td><td>0.0</td><td>468.96</td><td>200.0</td></tr></tbody></table></div>"
      ],
      "text/plain": [
       "shape: (5, 201)\n",
       "┌───────────┬───────────┬───────────┬───────────┬───┬───────────┬───────────┬───────────┬──────────┐\n",
       "│ tst       ┆ asks[0].p ┆ asks[0].a ┆ bids[0].p ┆ … ┆ asks[49]. ┆ asks[49]. ┆ bids[49]. ┆ bids[49] │\n",
       "│ ---       ┆ rice      ┆ mount     ┆ rice      ┆   ┆ price     ┆ amount    ┆ price     ┆ .amount  │\n",
       "│ i64       ┆ ---       ┆ ---       ┆ ---       ┆   ┆ ---       ┆ ---       ┆ ---       ┆ ---      │\n",
       "│           ┆ f64       ┆ f64       ┆ f64       ┆   ┆ f64       ┆ f64       ┆ f64       ┆ f64      │\n",
       "╞═══════════╪═══════════╪═══════════╪═══════════╪═══╪═══════════╪═══════════╪═══════════╪══════════╡\n",
       "│ 134027100 ┆ 585.94    ┆ 200.0     ┆ 585.33    ┆ … ┆ null      ┆ 0.0       ┆ 468.94    ┆ 400.0    │\n",
       "│ 000424117 ┆           ┆           ┆           ┆   ┆           ┆           ┆           ┆          │\n",
       "│ 6         ┆           ┆           ┆           ┆   ┆           ┆           ┆           ┆          │\n",
       "│ 134027100 ┆ 585.94    ┆ 200.0     ┆ 585.33    ┆ … ┆ null      ┆ 0.0       ┆ 468.95    ┆ 1900.0   │\n",
       "│ 000426064 ┆           ┆           ┆           ┆   ┆           ┆           ┆           ┆          │\n",
       "│ 0         ┆           ┆           ┆           ┆   ┆           ┆           ┆           ┆          │\n",
       "│ 134027100 ┆ 585.94    ┆ 200.0     ┆ 585.33    ┆ … ┆ null      ┆ 0.0       ┆ 468.96    ┆ 200.0    │\n",
       "│ 000444748 ┆           ┆           ┆           ┆   ┆           ┆           ┆           ┆          │\n",
       "│ 4         ┆           ┆           ┆           ┆   ┆           ┆           ┆           ┆          │\n",
       "│ 134027100 ┆ 585.91    ┆ 18.0      ┆ 585.33    ┆ … ┆ null      ┆ 0.0       ┆ 468.96    ┆ 200.0    │\n",
       "│ 002555190 ┆           ┆           ┆           ┆   ┆           ┆           ┆           ┆          │\n",
       "│ 9         ┆           ┆           ┆           ┆   ┆           ┆           ┆           ┆          │\n",
       "│ 134027100 ┆ 585.91    ┆ 18.0      ┆ 585.33    ┆ … ┆ null      ┆ 0.0       ┆ 468.96    ┆ 200.0    │\n",
       "│ 002557954 ┆           ┆           ┆           ┆   ┆           ┆           ┆           ┆          │\n",
       "│ 6         ┆           ┆           ┆           ┆   ┆           ┆           ┆           ┆          │\n",
       "└───────────┴───────────┴───────────┴───────────┴───┴───────────┴───────────┴───────────┴──────────┘"
      ]
     },
     "execution_count": 56,
     "metadata": {},
     "output_type": "execute_result"
    }
   ],
   "source": [
    "df.head()"
   ]
  },
  {
   "cell_type": "code",
   "execution_count": 57,
   "metadata": {},
   "outputs": [],
   "source": [
    "messages = dl.load_book(\"AAPL\", [\"120621.093000\", \"120621.103000\"])\n",
    "ob = dl.load_book(\"AAPL\", [\"120621.093000\", \"120621.103000\"], type=\"snapshot\")"
   ]
  },
  {
   "cell_type": "code",
   "execution_count": 58,
   "metadata": {},
   "outputs": [],
   "source": [
    "df = reconstruct_snapshots(messages, ob.head(1))"
   ]
  },
  {
   "cell_type": "code",
   "execution_count": 59,
   "metadata": {},
   "outputs": [
    {
     "data": {
      "text/plain": [
       "(91997, 201)"
      ]
     },
     "execution_count": 59,
     "metadata": {},
     "output_type": "execute_result"
    }
   ],
   "source": [
    "df.shape"
   ]
  },
  {
   "cell_type": "code",
   "execution_count": 60,
   "metadata": {},
   "outputs": [],
   "source": [
    "difdf = df-ob"
   ]
  },
  {
   "cell_type": "code",
   "execution_count": 61,
   "metadata": {},
   "outputs": [],
   "source": [
    "numeric_cols = [c for c, dtype in difdf.schema.items() if dtype.is_numeric()]\n",
    "\n",
    "non_zero_rows = difdf.filter(\n",
    "    pl.any_horizontal([pl.col(c) != 0 for c in numeric_cols])\n",
    ")"
   ]
  },
  {
   "cell_type": "code",
   "execution_count": 62,
   "metadata": {},
   "outputs": [
    {
     "data": {
      "text/html": [
       "<div><style>\n",
       ".dataframe > thead > tr,\n",
       ".dataframe > tbody > tr {\n",
       "  text-align: right;\n",
       "  white-space: pre-wrap;\n",
       "}\n",
       "</style>\n",
       "<small>shape: (89_379, 201)</small><table border=\"1\" class=\"dataframe\"><thead><tr><th>tst</th><th>asks[0].price</th><th>asks[0].amount</th><th>bids[0].price</th><th>bids[0].amount</th><th>asks[1].price</th><th>asks[1].amount</th><th>bids[1].price</th><th>bids[1].amount</th><th>asks[2].price</th><th>asks[2].amount</th><th>bids[2].price</th><th>bids[2].amount</th><th>asks[3].price</th><th>asks[3].amount</th><th>bids[3].price</th><th>bids[3].amount</th><th>asks[4].price</th><th>asks[4].amount</th><th>bids[4].price</th><th>bids[4].amount</th><th>asks[5].price</th><th>asks[5].amount</th><th>bids[5].price</th><th>bids[5].amount</th><th>asks[6].price</th><th>asks[6].amount</th><th>bids[6].price</th><th>bids[6].amount</th><th>asks[7].price</th><th>asks[7].amount</th><th>bids[7].price</th><th>bids[7].amount</th><th>asks[8].price</th><th>asks[8].amount</th><th>bids[8].price</th><th>bids[8].amount</th><th>&hellip;</th><th>bids[40].amount</th><th>asks[41].price</th><th>asks[41].amount</th><th>bids[41].price</th><th>bids[41].amount</th><th>asks[42].price</th><th>asks[42].amount</th><th>bids[42].price</th><th>bids[42].amount</th><th>asks[43].price</th><th>asks[43].amount</th><th>bids[43].price</th><th>bids[43].amount</th><th>asks[44].price</th><th>asks[44].amount</th><th>bids[44].price</th><th>bids[44].amount</th><th>asks[45].price</th><th>asks[45].amount</th><th>bids[45].price</th><th>bids[45].amount</th><th>asks[46].price</th><th>asks[46].amount</th><th>bids[46].price</th><th>bids[46].amount</th><th>asks[47].price</th><th>asks[47].amount</th><th>bids[47].price</th><th>bids[47].amount</th><th>asks[48].price</th><th>asks[48].amount</th><th>bids[48].price</th><th>bids[48].amount</th><th>asks[49].price</th><th>asks[49].amount</th><th>bids[49].price</th><th>bids[49].amount</th></tr><tr><td>i64</td><td>f64</td><td>f64</td><td>f64</td><td>f64</td><td>f64</td><td>f64</td><td>f64</td><td>f64</td><td>f64</td><td>f64</td><td>f64</td><td>f64</td><td>f64</td><td>f64</td><td>f64</td><td>f64</td><td>f64</td><td>f64</td><td>f64</td><td>f64</td><td>f64</td><td>f64</td><td>f64</td><td>f64</td><td>f64</td><td>f64</td><td>f64</td><td>f64</td><td>f64</td><td>f64</td><td>f64</td><td>f64</td><td>f64</td><td>f64</td><td>f64</td><td>f64</td><td>&hellip;</td><td>f64</td><td>f64</td><td>f64</td><td>f64</td><td>f64</td><td>f64</td><td>f64</td><td>f64</td><td>f64</td><td>f64</td><td>f64</td><td>f64</td><td>f64</td><td>f64</td><td>f64</td><td>f64</td><td>f64</td><td>f64</td><td>f64</td><td>f64</td><td>f64</td><td>f64</td><td>f64</td><td>f64</td><td>f64</td><td>f64</td><td>f64</td><td>f64</td><td>f64</td><td>f64</td><td>f64</td><td>f64</td><td>f64</td><td>f64</td><td>f64</td><td>f64</td><td>f64</td></tr></thead><tbody><tr><td>0</td><td>0.0</td><td>0.0</td><td>0.0</td><td>0.0</td><td>0.0</td><td>0.0</td><td>0.0</td><td>0.0</td><td>0.0</td><td>0.0</td><td>0.0</td><td>0.0</td><td>0.0</td><td>0.0</td><td>0.0</td><td>0.0</td><td>0.0</td><td>0.0</td><td>0.0</td><td>0.0</td><td>0.0</td><td>0.0</td><td>0.0</td><td>0.0</td><td>0.0</td><td>0.0</td><td>0.0</td><td>0.0</td><td>0.0</td><td>0.0</td><td>0.0</td><td>0.0</td><td>0.0</td><td>0.0</td><td>0.0</td><td>0.0</td><td>&hellip;</td><td>0.0</td><td>0.0</td><td>0.0</td><td>0.0</td><td>0.0</td><td>0.0</td><td>0.0</td><td>0.0</td><td>0.0</td><td>0.0</td><td>0.0</td><td>0.0</td><td>0.0</td><td>0.0</td><td>0.0</td><td>0.0</td><td>0.0</td><td>0.0</td><td>0.0</td><td>0.0</td><td>0.0</td><td>0.0</td><td>0.0</td><td>0.0</td><td>0.0</td><td>0.0</td><td>0.0</td><td>0.0</td><td>0.0</td><td>0.0</td><td>0.0</td><td>0.0</td><td>0.0</td><td>0.24</td><td>0.0</td><td>0.0</td><td>0.0</td></tr><tr><td>0</td><td>0.0</td><td>0.0</td><td>0.0</td><td>0.0</td><td>0.0</td><td>0.0</td><td>0.0</td><td>0.0</td><td>0.0</td><td>0.0</td><td>0.0</td><td>0.0</td><td>0.0</td><td>0.0</td><td>0.0</td><td>0.0</td><td>0.0</td><td>0.0</td><td>0.0</td><td>0.0</td><td>0.0</td><td>0.0</td><td>0.0</td><td>0.0</td><td>0.0</td><td>0.0</td><td>0.0</td><td>0.0</td><td>0.0</td><td>0.0</td><td>0.0</td><td>0.0</td><td>0.0</td><td>0.0</td><td>0.0</td><td>0.0</td><td>&hellip;</td><td>0.0</td><td>0.0</td><td>0.0</td><td>0.0</td><td>0.0</td><td>0.0</td><td>0.0</td><td>0.0</td><td>0.0</td><td>0.0</td><td>0.0</td><td>0.0</td><td>0.0</td><td>0.0</td><td>0.0</td><td>0.0</td><td>0.0</td><td>0.0</td><td>0.0</td><td>0.0</td><td>0.0</td><td>0.0</td><td>0.0</td><td>0.0</td><td>0.0</td><td>0.0</td><td>0.0</td><td>0.0</td><td>0.0</td><td>0.0</td><td>0.0</td><td>0.0</td><td>0.0</td><td>0.24</td><td>0.0</td><td>0.0</td><td>0.0</td></tr><tr><td>0</td><td>0.0</td><td>0.0</td><td>0.0</td><td>0.0</td><td>0.0</td><td>0.0</td><td>0.0</td><td>0.0</td><td>0.0</td><td>0.0</td><td>0.0</td><td>0.0</td><td>0.0</td><td>0.0</td><td>0.0</td><td>0.0</td><td>0.0</td><td>0.0</td><td>0.0</td><td>0.0</td><td>0.0</td><td>0.0</td><td>0.0</td><td>0.0</td><td>0.0</td><td>0.0</td><td>0.0</td><td>0.0</td><td>0.0</td><td>0.0</td><td>0.0</td><td>0.0</td><td>0.0</td><td>0.0</td><td>0.0</td><td>0.0</td><td>&hellip;</td><td>0.0</td><td>0.0</td><td>0.0</td><td>0.0</td><td>0.0</td><td>0.0</td><td>0.0</td><td>0.0</td><td>0.0</td><td>0.0</td><td>0.0</td><td>0.0</td><td>0.0</td><td>0.0</td><td>0.0</td><td>0.0</td><td>0.0</td><td>0.0</td><td>0.0</td><td>0.0</td><td>0.0</td><td>0.0</td><td>0.0</td><td>0.0</td><td>0.0</td><td>0.0</td><td>0.0</td><td>0.0</td><td>0.0</td><td>0.0</td><td>0.0</td><td>0.0</td><td>0.0</td><td>0.24</td><td>0.0</td><td>0.0</td><td>0.0</td></tr><tr><td>0</td><td>0.0</td><td>0.0</td><td>0.0</td><td>0.0</td><td>0.0</td><td>0.0</td><td>0.0</td><td>0.0</td><td>0.0</td><td>0.0</td><td>0.0</td><td>0.0</td><td>0.0</td><td>0.0</td><td>0.0</td><td>0.0</td><td>0.0</td><td>0.0</td><td>0.0</td><td>0.0</td><td>0.0</td><td>0.0</td><td>0.0</td><td>0.0</td><td>0.0</td><td>0.0</td><td>0.0</td><td>0.0</td><td>0.0</td><td>0.0</td><td>0.0</td><td>0.0</td><td>0.0</td><td>0.0</td><td>0.0</td><td>0.0</td><td>&hellip;</td><td>0.0</td><td>0.0</td><td>0.0</td><td>0.0</td><td>0.0</td><td>0.0</td><td>0.0</td><td>0.0</td><td>0.0</td><td>0.0</td><td>0.0</td><td>0.0</td><td>0.0</td><td>0.0</td><td>0.0</td><td>0.0</td><td>0.0</td><td>0.0</td><td>0.0</td><td>0.0</td><td>0.0</td><td>0.0</td><td>0.0</td><td>0.0</td><td>0.0</td><td>0.0</td><td>0.0</td><td>0.0</td><td>0.0</td><td>0.0</td><td>0.0</td><td>0.0</td><td>0.0</td><td>0.24</td><td>0.0</td><td>0.0</td><td>0.0</td></tr><tr><td>0</td><td>0.0</td><td>0.0</td><td>0.0</td><td>0.0</td><td>0.0</td><td>0.0</td><td>0.0</td><td>0.0</td><td>0.0</td><td>0.0</td><td>0.0</td><td>0.0</td><td>0.0</td><td>0.0</td><td>0.0</td><td>0.0</td><td>0.0</td><td>0.0</td><td>0.0</td><td>0.0</td><td>0.0</td><td>0.0</td><td>0.0</td><td>0.0</td><td>0.0</td><td>0.0</td><td>0.0</td><td>0.0</td><td>0.0</td><td>0.0</td><td>0.0</td><td>0.0</td><td>0.0</td><td>0.0</td><td>0.0</td><td>0.0</td><td>&hellip;</td><td>0.0</td><td>0.0</td><td>0.0</td><td>0.0</td><td>0.0</td><td>0.0</td><td>0.0</td><td>0.0</td><td>0.0</td><td>0.0</td><td>0.0</td><td>0.0</td><td>0.0</td><td>0.0</td><td>0.0</td><td>0.0</td><td>0.0</td><td>0.0</td><td>0.0</td><td>0.0</td><td>0.0</td><td>0.0</td><td>0.0</td><td>0.0</td><td>0.0</td><td>0.0</td><td>0.0</td><td>0.0</td><td>0.0</td><td>0.0</td><td>0.0</td><td>0.0</td><td>0.0</td><td>0.24</td><td>0.0</td><td>0.0</td><td>0.0</td></tr><tr><td>&hellip;</td><td>&hellip;</td><td>&hellip;</td><td>&hellip;</td><td>&hellip;</td><td>&hellip;</td><td>&hellip;</td><td>&hellip;</td><td>&hellip;</td><td>&hellip;</td><td>&hellip;</td><td>&hellip;</td><td>&hellip;</td><td>&hellip;</td><td>&hellip;</td><td>&hellip;</td><td>&hellip;</td><td>&hellip;</td><td>&hellip;</td><td>&hellip;</td><td>&hellip;</td><td>&hellip;</td><td>&hellip;</td><td>&hellip;</td><td>&hellip;</td><td>&hellip;</td><td>&hellip;</td><td>&hellip;</td><td>&hellip;</td><td>&hellip;</td><td>&hellip;</td><td>&hellip;</td><td>&hellip;</td><td>&hellip;</td><td>&hellip;</td><td>&hellip;</td><td>&hellip;</td><td>&hellip;</td><td>&hellip;</td><td>&hellip;</td><td>&hellip;</td><td>&hellip;</td><td>&hellip;</td><td>&hellip;</td><td>&hellip;</td><td>&hellip;</td><td>&hellip;</td><td>&hellip;</td><td>&hellip;</td><td>&hellip;</td><td>&hellip;</td><td>&hellip;</td><td>&hellip;</td><td>&hellip;</td><td>&hellip;</td><td>&hellip;</td><td>&hellip;</td><td>&hellip;</td><td>&hellip;</td><td>&hellip;</td><td>&hellip;</td><td>&hellip;</td><td>&hellip;</td><td>&hellip;</td><td>&hellip;</td><td>&hellip;</td><td>&hellip;</td><td>&hellip;</td><td>&hellip;</td><td>&hellip;</td><td>&hellip;</td><td>&hellip;</td><td>&hellip;</td><td>&hellip;</td><td>&hellip;</td></tr><tr><td>0</td><td>0.0</td><td>0.0</td><td>0.0</td><td>0.0</td><td>0.0</td><td>0.0</td><td>0.0</td><td>0.0</td><td>0.0</td><td>0.0</td><td>0.0</td><td>0.0</td><td>0.0</td><td>0.0</td><td>0.0</td><td>0.0</td><td>0.0</td><td>0.0</td><td>0.0</td><td>0.0</td><td>0.0</td><td>0.0</td><td>0.0</td><td>0.0</td><td>0.0</td><td>0.0</td><td>0.0</td><td>0.0</td><td>0.0</td><td>0.0</td><td>0.0</td><td>0.0</td><td>0.0</td><td>0.0</td><td>0.0</td><td>0.0</td><td>&hellip;</td><td>900.0</td><td>-0.13</td><td>-45.0</td><td>0.06</td><td>-1000.0</td><td>-0.13</td><td>950.0</td><td>0.01</td><td>1090.0</td><td>-0.1</td><td>-623.0</td><td>0.05</td><td>-190.0</td><td>-0.08</td><td>30.0</td><td>0.05</td><td>132.0</td><td>-0.08</td><td>518.0</td><td>0.06</td><td>88.0</td><td>-0.02</td><td>900.0</td><td>0.1</td><td>78.0</td><td>-0.02</td><td>200.0</td><td>0.12</td><td>92.0</td><td>0.0</td><td>100.0</td><td>0.13</td><td>-840.0</td><td>0.0</td><td>1098.0</td><td>0.12</td><td>-2489.0</td></tr><tr><td>0</td><td>0.0</td><td>0.0</td><td>0.0</td><td>0.0</td><td>0.0</td><td>0.0</td><td>0.0</td><td>0.0</td><td>0.0</td><td>0.0</td><td>0.0</td><td>0.0</td><td>0.0</td><td>0.0</td><td>0.0</td><td>0.0</td><td>0.0</td><td>0.0</td><td>0.0</td><td>0.0</td><td>0.0</td><td>0.0</td><td>0.0</td><td>0.0</td><td>0.0</td><td>0.0</td><td>0.0</td><td>0.0</td><td>0.0</td><td>0.0</td><td>0.0</td><td>0.0</td><td>0.0</td><td>0.0</td><td>0.0</td><td>0.0</td><td>&hellip;</td><td>900.0</td><td>-0.13</td><td>-45.0</td><td>0.06</td><td>-1000.0</td><td>-0.13</td><td>950.0</td><td>0.01</td><td>1090.0</td><td>-0.1</td><td>-623.0</td><td>0.05</td><td>-190.0</td><td>-0.08</td><td>30.0</td><td>0.05</td><td>132.0</td><td>-0.08</td><td>518.0</td><td>0.06</td><td>88.0</td><td>-0.02</td><td>900.0</td><td>0.1</td><td>78.0</td><td>-0.02</td><td>200.0</td><td>0.12</td><td>92.0</td><td>0.0</td><td>100.0</td><td>0.13</td><td>-840.0</td><td>0.0</td><td>1098.0</td><td>0.12</td><td>-2489.0</td></tr><tr><td>0</td><td>0.0</td><td>0.0</td><td>0.0</td><td>0.0</td><td>0.0</td><td>0.0</td><td>0.0</td><td>0.0</td><td>0.0</td><td>0.0</td><td>0.0</td><td>0.0</td><td>0.0</td><td>0.0</td><td>0.0</td><td>0.0</td><td>0.0</td><td>0.0</td><td>0.0</td><td>0.0</td><td>0.0</td><td>0.0</td><td>0.0</td><td>0.0</td><td>0.0</td><td>0.0</td><td>0.0</td><td>0.0</td><td>0.0</td><td>0.0</td><td>0.0</td><td>0.0</td><td>0.0</td><td>0.0</td><td>0.0</td><td>0.0</td><td>&hellip;</td><td>900.0</td><td>-0.02</td><td>2995.0</td><td>0.06</td><td>-1000.0</td><td>-0.13</td><td>-45.0</td><td>0.01</td><td>1090.0</td><td>-0.13</td><td>950.0</td><td>0.05</td><td>-190.0</td><td>-0.1</td><td>-623.0</td><td>0.05</td><td>132.0</td><td>-0.08</td><td>30.0</td><td>0.06</td><td>88.0</td><td>-0.08</td><td>518.0</td><td>0.1</td><td>78.0</td><td>-0.02</td><td>900.0</td><td>0.12</td><td>92.0</td><td>-0.02</td><td>200.0</td><td>0.13</td><td>-840.0</td><td>0.0</td><td>100.0</td><td>0.12</td><td>-2489.0</td></tr><tr><td>0</td><td>0.0</td><td>0.0</td><td>0.0</td><td>0.0</td><td>0.0</td><td>0.0</td><td>0.0</td><td>0.0</td><td>0.0</td><td>0.0</td><td>0.0</td><td>0.0</td><td>0.0</td><td>0.0</td><td>0.0</td><td>0.0</td><td>0.0</td><td>0.0</td><td>0.0</td><td>0.0</td><td>0.0</td><td>0.0</td><td>0.0</td><td>0.0</td><td>0.0</td><td>0.0</td><td>0.0</td><td>0.0</td><td>0.0</td><td>0.0</td><td>0.0</td><td>0.0</td><td>0.0</td><td>0.0</td><td>0.0</td><td>0.0</td><td>&hellip;</td><td>900.0</td><td>-0.02</td><td>2995.0</td><td>0.06</td><td>-1000.0</td><td>-0.13</td><td>-45.0</td><td>0.01</td><td>1090.0</td><td>-0.13</td><td>950.0</td><td>0.05</td><td>-190.0</td><td>-0.1</td><td>-623.0</td><td>0.05</td><td>132.0</td><td>-0.08</td><td>30.0</td><td>0.06</td><td>88.0</td><td>-0.08</td><td>518.0</td><td>0.1</td><td>78.0</td><td>-0.02</td><td>900.0</td><td>0.12</td><td>92.0</td><td>-0.02</td><td>200.0</td><td>0.13</td><td>-840.0</td><td>0.0</td><td>100.0</td><td>0.12</td><td>-2489.0</td></tr><tr><td>0</td><td>0.0</td><td>0.0</td><td>0.0</td><td>0.0</td><td>0.0</td><td>0.0</td><td>0.0</td><td>0.0</td><td>0.0</td><td>0.0</td><td>0.0</td><td>0.0</td><td>0.0</td><td>0.0</td><td>0.0</td><td>0.0</td><td>0.0</td><td>0.0</td><td>0.0</td><td>0.0</td><td>0.0</td><td>0.0</td><td>0.0</td><td>0.0</td><td>0.0</td><td>0.0</td><td>0.0</td><td>0.0</td><td>0.0</td><td>0.0</td><td>0.0</td><td>0.0</td><td>0.0</td><td>0.0</td><td>0.0</td><td>0.0</td><td>&hellip;</td><td>-900.0</td><td>-0.02</td><td>2995.0</td><td>0.03</td><td>900.0</td><td>-0.13</td><td>-45.0</td><td>0.06</td><td>-1000.0</td><td>-0.13</td><td>950.0</td><td>0.01</td><td>1090.0</td><td>-0.1</td><td>-623.0</td><td>0.05</td><td>-190.0</td><td>-0.08</td><td>30.0</td><td>0.05</td><td>132.0</td><td>-0.08</td><td>518.0</td><td>0.06</td><td>88.0</td><td>-0.02</td><td>900.0</td><td>0.1</td><td>78.0</td><td>-0.02</td><td>200.0</td><td>0.12</td><td>92.0</td><td>0.0</td><td>100.0</td><td>0.13</td><td>-840.0</td></tr></tbody></table></div>"
      ],
      "text/plain": [
       "shape: (89_379, 201)\n",
       "┌─────┬────────────┬────────────┬────────────┬───┬────────────┬────────────┬───────────┬───────────┐\n",
       "│ tst ┆ asks[0].pr ┆ asks[0].am ┆ bids[0].pr ┆ … ┆ asks[49].p ┆ asks[49].a ┆ bids[49]. ┆ bids[49]. │\n",
       "│ --- ┆ ice        ┆ ount       ┆ ice        ┆   ┆ rice       ┆ mount      ┆ price     ┆ amount    │\n",
       "│ i64 ┆ ---        ┆ ---        ┆ ---        ┆   ┆ ---        ┆ ---        ┆ ---       ┆ ---       │\n",
       "│     ┆ f64        ┆ f64        ┆ f64        ┆   ┆ f64        ┆ f64        ┆ f64       ┆ f64       │\n",
       "╞═════╪════════════╪════════════╪════════════╪═══╪════════════╪════════════╪═══════════╪═══════════╡\n",
       "│ 0   ┆ 0.0        ┆ 0.0        ┆ 0.0        ┆ … ┆ 0.24       ┆ 0.0        ┆ 0.0       ┆ 0.0       │\n",
       "│ 0   ┆ 0.0        ┆ 0.0        ┆ 0.0        ┆ … ┆ 0.24       ┆ 0.0        ┆ 0.0       ┆ 0.0       │\n",
       "│ 0   ┆ 0.0        ┆ 0.0        ┆ 0.0        ┆ … ┆ 0.24       ┆ 0.0        ┆ 0.0       ┆ 0.0       │\n",
       "│ 0   ┆ 0.0        ┆ 0.0        ┆ 0.0        ┆ … ┆ 0.24       ┆ 0.0        ┆ 0.0       ┆ 0.0       │\n",
       "│ 0   ┆ 0.0        ┆ 0.0        ┆ 0.0        ┆ … ┆ 0.24       ┆ 0.0        ┆ 0.0       ┆ 0.0       │\n",
       "│ …   ┆ …          ┆ …          ┆ …          ┆ … ┆ …          ┆ …          ┆ …         ┆ …         │\n",
       "│ 0   ┆ 0.0        ┆ 0.0        ┆ 0.0        ┆ … ┆ 0.0        ┆ 1098.0     ┆ 0.12      ┆ -2489.0   │\n",
       "│ 0   ┆ 0.0        ┆ 0.0        ┆ 0.0        ┆ … ┆ 0.0        ┆ 1098.0     ┆ 0.12      ┆ -2489.0   │\n",
       "│ 0   ┆ 0.0        ┆ 0.0        ┆ 0.0        ┆ … ┆ 0.0        ┆ 100.0      ┆ 0.12      ┆ -2489.0   │\n",
       "│ 0   ┆ 0.0        ┆ 0.0        ┆ 0.0        ┆ … ┆ 0.0        ┆ 100.0      ┆ 0.12      ┆ -2489.0   │\n",
       "│ 0   ┆ 0.0        ┆ 0.0        ┆ 0.0        ┆ … ┆ 0.0        ┆ 100.0      ┆ 0.13      ┆ -840.0    │\n",
       "└─────┴────────────┴────────────┴────────────┴───┴────────────┴────────────┴───────────┴───────────┘"
      ]
     },
     "execution_count": 62,
     "metadata": {},
     "output_type": "execute_result"
    }
   ],
   "source": [
    "non_zero_rows"
   ]
  },
  {
   "cell_type": "code",
   "execution_count": null,
   "metadata": {},
   "outputs": [],
   "source": []
  }
 ],
 "metadata": {
  "kernelspec": {
   "display_name": ".venv",
   "language": "python",
   "name": "python3"
  },
  "language_info": {
   "codemirror_mode": {
    "name": "ipython",
    "version": 3
   },
   "file_extension": ".py",
   "mimetype": "text/x-python",
   "name": "python",
   "nbconvert_exporter": "python",
   "pygments_lexer": "ipython3",
   "version": "3.13.2"
  }
 },
 "nbformat": 4,
 "nbformat_minor": 4
}
